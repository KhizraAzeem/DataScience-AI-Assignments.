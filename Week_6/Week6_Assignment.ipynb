{
 "cells": [
  {
   "cell_type": "code",
   "execution_count": 1,
   "id": "28aefa04",
   "metadata": {},
   "outputs": [
    {
     "name": "stdout",
     "output_type": "stream",
     "text": [
      "📊 Model Accuracy Comparison:\n",
      "Logistic Regression Accuracy: 0.5121\n",
      "Random Forest Accuracy: 0.5077\n",
      "\n",
      "Classification Report (Random Forest):\n",
      "              precision    recall  f1-score   support\n",
      "\n",
      "           0       0.49      0.28      0.36       222\n",
      "           1       0.51      0.72      0.60       233\n",
      "\n",
      "    accuracy                           0.51       455\n",
      "   macro avg       0.50      0.50      0.48       455\n",
      "weighted avg       0.50      0.51      0.48       455\n",
      "\n"
     ]
    }
   ],
   "source": [
    "# Week 6: Logistic Regression & Random Forest Classification\n",
    "\n",
    "import pandas as pd\n",
    "import numpy as np\n",
    "from sklearn.model_selection import train_test_split\n",
    "from sklearn.linear_model import LogisticRegression\n",
    "from sklearn.ensemble import RandomForestClassifier\n",
    "from sklearn.metrics import accuracy_score, classification_report\n",
    "\n",
    "# Step 1: Load cleaned dataset\n",
    "df = pd.read_csv(\"TeslaStock_Dataset_Cleaned.csv\")\n",
    "\n",
    "# Step 2: Create \"Price_Up\" target column\n",
    "df['Tomorrow_Close'] = df['Close'].shift(-1)\n",
    "df['Price_Up'] = (df['Tomorrow_Close'] > df['Close']).astype(int)\n",
    "\n",
    "# Drop last row (NaN after shift)\n",
    "df = df.dropna()\n",
    "\n",
    "# Step 3: Select features (you can add more later like MA, Volume etc.)\n",
    "X = df[['Open', 'High', 'Low', 'Volume']]\n",
    "y = df['Price_Up']\n",
    "\n",
    "# Step 4: Train/test split\n",
    "X_train, X_test, y_train, y_test = train_test_split(X, y, test_size=0.2, shuffle=False)\n",
    "\n",
    "# Step 5: Logistic Regression\n",
    "log_model = LogisticRegression(max_iter=1000)\n",
    "log_model.fit(X_train, y_train)\n",
    "y_pred_log = log_model.predict(X_test)\n",
    "log_acc = accuracy_score(y_test, y_pred_log)\n",
    "\n",
    "# Step 6: Random Forest\n",
    "rf_model = RandomForestClassifier(n_estimators=100, random_state=42)\n",
    "rf_model.fit(X_train, y_train)\n",
    "y_pred_rf = rf_model.predict(X_test)\n",
    "rf_acc = accuracy_score(y_test, y_pred_rf)\n",
    "\n",
    "# Step 7: Compare results\n",
    "print(\"📊 Model Accuracy Comparison:\")\n",
    "print(f\"Logistic Regression Accuracy: {log_acc:.4f}\")\n",
    "print(f\"Random Forest Accuracy: {rf_acc:.4f}\")\n",
    "\n",
    "print(\"\\nClassification Report (Random Forest):\")\n",
    "print(classification_report(y_test, y_pred_rf))\n"
   ]
  }
 ],
 "metadata": {
  "kernelspec": {
   "display_name": "Python 3",
   "language": "python",
   "name": "python3"
  },
  "language_info": {
   "codemirror_mode": {
    "name": "ipython",
    "version": 3
   },
   "file_extension": ".py",
   "mimetype": "text/x-python",
   "name": "python",
   "nbconvert_exporter": "python",
   "pygments_lexer": "ipython3",
   "version": "3.13.7"
  }
 },
 "nbformat": 4,
 "nbformat_minor": 5
}
