{
 "cells": [
  {
   "cell_type": "code",
   "execution_count": 1,
   "id": "226b1616",
   "metadata": {},
   "outputs": [
    {
     "name": "stdout",
     "output_type": "stream",
     "text": [
      "📊 Logistic Regression Metrics:\n",
      "Accuracy: 0.512087912087912\n",
      "Precision: 0.512087912087912\n",
      "Recall: 1.0\n",
      "F1 Score: 0.6773255813953488\n",
      "\n",
      "\n",
      "📊 Random Forest Metrics:\n",
      "Accuracy: 0.5076923076923077\n",
      "Precision: 0.5137614678899083\n",
      "Recall: 0.721030042918455\n",
      "F1 Score: 0.6\n"
     ]
    }
   ],
   "source": [
    "# Week 7: Model Evaluation with Precision, Recall, F1\n",
    "\n",
    "import pandas as pd\n",
    "import numpy as np\n",
    "from sklearn.model_selection import train_test_split\n",
    "from sklearn.linear_model import LogisticRegression\n",
    "from sklearn.ensemble import RandomForestClassifier\n",
    "from sklearn.metrics import accuracy_score, precision_score, recall_score, f1_score, classification_report\n",
    "\n",
    "# Step 1: Load dataset\n",
    "df = pd.read_csv(\"TeslaStock_Dataset_Cleaned.csv\")\n",
    "\n",
    "# Step 2: Create binary target (Up/Down)\n",
    "df['Tomorrow_Close'] = df['Close'].shift(-1)\n",
    "df['Price_Up'] = (df['Tomorrow_Close'] > df['Close']).astype(int)\n",
    "df = df.dropna()\n",
    "\n",
    "# Step 3: Features and target\n",
    "X = df[['Open', 'High', 'Low', 'Volume']]\n",
    "y = df['Price_Up']\n",
    "\n",
    "# Step 4: Train/test split\n",
    "X_train, X_test, y_train, y_test = train_test_split(X, y, test_size=0.2, shuffle=False)\n",
    "\n",
    "# Logistic Regression\n",
    "log_model = LogisticRegression(max_iter=1000)\n",
    "log_model.fit(X_train, y_train)\n",
    "y_pred_log = log_model.predict(X_test)\n",
    "\n",
    "# Random Forest\n",
    "rf_model = RandomForestClassifier(n_estimators=100, random_state=42)\n",
    "rf_model.fit(X_train, y_train)\n",
    "y_pred_rf = rf_model.predict(X_test)\n",
    "\n",
    "# Step 5: Evaluation Metrics\n",
    "print(\"📊 Logistic Regression Metrics:\")\n",
    "print(\"Accuracy:\", accuracy_score(y_test, y_pred_log))\n",
    "print(\"Precision:\", precision_score(y_test, y_pred_log))\n",
    "print(\"Recall:\", recall_score(y_test, y_pred_log))\n",
    "print(\"F1 Score:\", f1_score(y_test, y_pred_log))\n",
    "print(\"\\n\")\n",
    "\n",
    "print(\"📊 Random Forest Metrics:\")\n",
    "print(\"Accuracy:\", accuracy_score(y_test, y_pred_rf))\n",
    "print(\"Precision:\", precision_score(y_test, y_pred_rf))\n",
    "print(\"Recall:\", recall_score(y_test, y_pred_rf))\n",
    "print(\"F1 Score:\", f1_score(y_test, y_pred_rf))\n"
   ]
  }
 ],
 "metadata": {
  "kernelspec": {
   "display_name": "Python 3",
   "language": "python",
   "name": "python3"
  },
  "language_info": {
   "codemirror_mode": {
    "name": "ipython",
    "version": 3
   },
   "file_extension": ".py",
   "mimetype": "text/x-python",
   "name": "python",
   "nbconvert_exporter": "python",
   "pygments_lexer": "ipython3",
   "version": "3.13.7"
  }
 },
 "nbformat": 4,
 "nbformat_minor": 5
}
